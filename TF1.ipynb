{
  "nbformat": 4,
  "nbformat_minor": 0,
  "metadata": {
    "colab": {
      "name": "TF1.ipynb",
      "provenance": []
    },
    "kernelspec": {
      "name": "python3",
      "display_name": "Python 3"
    }
  },
  "cells": [
    {
      "cell_type": "code",
      "metadata": {
        "id": "oofEViE9czTe",
        "colab_type": "code",
        "colab": {
          "base_uri": "https://localhost:8080/",
          "height": 63
        },
        "outputId": "32abf791-6453-4433-d6f2-98b60cf8188a"
      },
      "source": [
        "import numpy as np\n",
        "import tensorflow as tf\n",
        "import matplotlib.pyplot as plt\n",
        "%matplotlib inline"
      ],
      "execution_count": 1,
      "outputs": [
        {
          "output_type": "display_data",
          "data": {
            "text/html": [
              "<p style=\"color: red;\">\n",
              "The default version of TensorFlow in Colab will soon switch to TensorFlow 2.x.<br>\n",
              "We recommend you <a href=\"https://www.tensorflow.org/guide/migrate\" target=\"_blank\">upgrade</a> now \n",
              "or ensure your notebook will continue to use TensorFlow 1.x via the <code>%tensorflow_version 1.x</code> magic:\n",
              "<a href=\"https://colab.research.google.com/notebooks/tensorflow_version.ipynb\" target=\"_blank\">more info</a>.</p>\n"
            ],
            "text/plain": [
              "<IPython.core.display.HTML object>"
            ]
          },
          "metadata": {
            "tags": []
          }
        }
      ]
    },
    {
      "cell_type": "markdown",
      "metadata": {
        "id": "tnDAtVO7hbVm",
        "colab_type": "text"
      },
      "source": [
        "Constant: It's value never change.\n",
        "\n",
        "Placeholder: Space for a value.\n",
        "\n",
        "feed_dict It contains the concrete values for the placeholders"
      ]
    },
    {
      "cell_type": "code",
      "metadata": {
        "id": "oYclhhWIhVlD",
        "colab_type": "code",
        "colab": {}
      },
      "source": [
        "x=tf.Variable(3,name='x')\n",
        "y=tf.Variable(4,name='y')\n",
        "f=x*x*y +y+2"
      ],
      "execution_count": 0,
      "outputs": []
    },
    {
      "cell_type": "code",
      "metadata": {
        "id": "nAD5S33iiaLB",
        "colab_type": "code",
        "colab": {
          "base_uri": "https://localhost:8080/",
          "height": 34
        },
        "outputId": "f3698e74-2e91-4ceb-85d2-959ca9b1db7a"
      },
      "source": [
        "sess=tf.Session()\n",
        "sess.run(x.initializer)\n",
        "sess.run(y.initializer)\n",
        "result=sess.run(f)\n",
        "print(result)"
      ],
      "execution_count": 6,
      "outputs": [
        {
          "output_type": "stream",
          "text": [
            "42\n"
          ],
          "name": "stdout"
        }
      ]
    },
    {
      "cell_type": "code",
      "metadata": {
        "id": "YKcn7BXvjnT7",
        "colab_type": "code",
        "colab": {
          "base_uri": "https://localhost:8080/",
          "height": 34
        },
        "outputId": "a857a988-0d12-4f24-8f13-2eb8dcfb494e"
      },
      "source": [
        "sess.close"
      ],
      "execution_count": 7,
      "outputs": [
        {
          "output_type": "execute_result",
          "data": {
            "text/plain": [
              "<bound method BaseSession.close of <tensorflow.python.client.session.Session object at 0x7fb09d4525c0>>"
            ]
          },
          "metadata": {
            "tags": []
          },
          "execution_count": 7
        }
      ]
    },
    {
      "cell_type": "code",
      "metadata": {
        "id": "zf2XLbaOjtIf",
        "colab_type": "code",
        "colab": {}
      },
      "source": [
        "with tf.Session() as sess:\n",
        "  x.initializer.run()\n",
        "  y.initializer.run()\n",
        "  result1=f.eval()"
      ],
      "execution_count": 0,
      "outputs": []
    },
    {
      "cell_type": "code",
      "metadata": {
        "id": "828UIQfikDXo",
        "colab_type": "code",
        "colab": {
          "base_uri": "https://localhost:8080/",
          "height": 34
        },
        "outputId": "8e28e63f-b5e1-4b43-949e-d48b631c77f5"
      },
      "source": [
        "print(result1)"
      ],
      "execution_count": 11,
      "outputs": [
        {
          "output_type": "stream",
          "text": [
            "42\n"
          ],
          "name": "stdout"
        }
      ]
    },
    {
      "cell_type": "markdown",
      "metadata": {
        "id": "5b5ElWGSkNTP",
        "colab_type": "text"
      },
      "source": [
        "The codes above, initiliazes each variable indepently. However, we can initialize them ah the same time"
      ]
    },
    {
      "cell_type": "code",
      "metadata": {
        "id": "P0bJbp0wkFoS",
        "colab_type": "code",
        "colab": {}
      },
      "source": [
        "init=tf.global_variables_initializer()\n",
        "with tf.Session() as sess:\n",
        "  init.run()\n",
        "  result2=f.eval()"
      ],
      "execution_count": 0,
      "outputs": []
    },
    {
      "cell_type": "code",
      "metadata": {
        "id": "CisqnqVMksYV",
        "colab_type": "code",
        "colab": {
          "base_uri": "https://localhost:8080/",
          "height": 34
        },
        "outputId": "071d99b4-5938-4faa-af27-83c694dc6d35"
      },
      "source": [
        "print(result2)"
      ],
      "execution_count": 14,
      "outputs": [
        {
          "output_type": "stream",
          "text": [
            "42\n"
          ],
          "name": "stdout"
        }
      ]
    },
    {
      "cell_type": "code",
      "metadata": {
        "id": "8pmYrgfqkz86",
        "colab_type": "code",
        "colab": {}
      },
      "source": [
        "sess.close()"
      ],
      "execution_count": 0,
      "outputs": []
    },
    {
      "cell_type": "code",
      "metadata": {
        "id": "H1xLfUKIk33x",
        "colab_type": "code",
        "colab": {}
      },
      "source": [
        "tf.reset_default_graph()"
      ],
      "execution_count": 0,
      "outputs": []
    },
    {
      "cell_type": "markdown",
      "metadata": {
        "id": "LpF2xE5Ml8Qc",
        "colab_type": "text"
      },
      "source": [
        "**Linear Regression**"
      ]
    },
    {
      "cell_type": "code",
      "metadata": {
        "id": "Vt_7hGmIlc4J",
        "colab_type": "code",
        "colab": {}
      },
      "source": [
        "#Model Parameters\n",
        "W=tf.Variable([0.2],tf.float32)\n",
        "b=tf.Variable([-0.1],tf.float32)\n",
        "#Now create the placeholder for x\n",
        "x=tf.placeholder(tf.float32)\n",
        "#And the linear model\n",
        "linear_model=W*x+b\n",
        "#Finally, the placeholder for the observations\n",
        "y=tf.placeholder(tf.float32)"
      ],
      "execution_count": 0,
      "outputs": []
    },
    {
      "cell_type": "code",
      "metadata": {
        "id": "QHY4gBbdo8Wu",
        "colab_type": "code",
        "colab": {}
      },
      "source": [
        "#The loss function is the mean square\n",
        "loss=tf.reduce_sum(tf.square(linear_model-y))"
      ],
      "execution_count": 0,
      "outputs": []
    },
    {
      "cell_type": "code",
      "metadata": {
        "id": "4bdWb68LpPkx",
        "colab_type": "code",
        "colab": {}
      },
      "source": [
        "#The optimizer is the Gradient Descent\n",
        "optimizer=tf.train.GradientDescentOptimizer(0.001)\n",
        "train=optimizer.minimize(loss)\n",
        "#Let's create some synthetic data\n",
        "x_train=[1,2,3,4,5,6,7,8,9,10,11]\n",
        "y_train=[1,2,3,4,5,6,7,8,9,10,11]"
      ],
      "execution_count": 0,
      "outputs": []
    },
    {
      "cell_type": "code",
      "metadata": {
        "id": "YcRRmbHBqAl6",
        "colab_type": "code",
        "colab": {
          "base_uri": "https://localhost:8080/",
          "height": 34
        },
        "outputId": "1f0aeafd-d9fa-4b4a-f3db-60fff51034ae"
      },
      "source": [
        "init=tf.global_variables_initializer()\n",
        "sess=tf.Session()\n",
        "sess.run(init)\n",
        "for i in range(10000):\n",
        "  sess.run(train,{x:x_train,y:y_train})\n",
        "  curr_W,curr_b,curr_loss=sess.run([W,b,loss],{x:x_train,y:y_train})\n",
        "\n",
        "print('W: %s b: %s loss %s' % (curr_W,curr_b,curr_loss))\n"
      ],
      "execution_count": 38,
      "outputs": [
        {
          "output_type": "stream",
          "text": [
            "W: [0.9999999] b: [7.154858e-07] loss 1.0942358e-12\n"
          ],
          "name": "stdout"
        }
      ]
    },
    {
      "cell_type": "code",
      "metadata": {
        "id": "U5PvNHvGrrcF",
        "colab_type": "code",
        "colab": {
          "base_uri": "https://localhost:8080/",
          "height": 265
        },
        "outputId": "122602b1-aa48-45ee-e80a-9bc6bab8774d"
      },
      "source": [
        "y=0.99999*np.array(x_train)-7.15e-7\n",
        "plt.plot(np.array(x_train),y)\n",
        "plt.plot(np.array(x_train),np.array(y_train),'rd')\n",
        "plt.grid()"
      ],
      "execution_count": 39,
      "outputs": [
        {
          "output_type": "display_data",
          "data": {
            "image/png": "[encoded data removed]",
            "text/plain": [
              "<Figure size 432x288 with 1 Axes>"
            ]
          },
          "metadata": {
            "tags": []
          }
        }
      ]
    },
    {
      "cell_type": "code",
      "metadata": {
        "id": "dzczkb1UsRPo",
        "colab_type": "code",
        "colab": {}
      },
      "source": [
        ""
      ],
      "execution_count": 0,
      "outputs": []
    }
  ]
}