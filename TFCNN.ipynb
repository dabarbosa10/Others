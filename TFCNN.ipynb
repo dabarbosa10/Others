{
  "nbformat": 4,
  "nbformat_minor": 0,
  "metadata": {
    "colab": {
      "name": "TFCNN.ipynb",
      "provenance": [],
      "collapsed_sections": []
    },
    "kernelspec": {
      "name": "python3",
      "display_name": "Python 3"
    }
  },
  "cells": [
    {
      "cell_type": "code",
      "metadata": {
        "id": "Pabgbm9pV4kf",
        "colab_type": "code",
        "outputId": "dae812d5-d061-4111-8060-f76c3f84293d",
        "colab": {
          "base_uri": "https://localhost:8080/",
          "height": 79
        }
      },
      "source": [
        "import numpy as np\n",
        "import tensorflow as tf"
      ],
      "execution_count": 1,
      "outputs": [
        {
          "output_type": "display_data",
          "data": {
            "text/html": [
              "<p style=\"color: red;\">\n",
              "The default version of TensorFlow in Colab will soon switch to TensorFlow 2.x.<br>\n",
              "We recommend you <a href=\"https://www.tensorflow.org/guide/migrate\" target=\"_blank\">upgrade</a> now \n",
              "or ensure your notebook will continue to use TensorFlow 1.x via the <code>%tensorflow_version 1.x</code> magic:\n",
              "<a href=\"https://colab.research.google.com/notebooks/tensorflow_version.ipynb\" target=\"_blank\">more info</a>.</p>\n"
            ],
            "text/plain": [
              "<IPython.core.display.HTML object>"
            ]
          },
          "metadata": {
            "tags": []
          }
        }
      ]
    },
    {
      "cell_type": "code",
      "metadata": {
        "id": "js4V1jITWJSn",
        "colab_type": "code",
        "outputId": "5b4d6759-78f1-49bf-d56c-23f8d8666e28",
        "colab": {
          "base_uri": "https://localhost:8080/",
          "height": 87
        }
      },
      "source": [
        "w=tf.Variable(0,dtype=tf.float32)\n",
        "cost=tf.add(tf.add(w**2,tf.multiply(-10.,w)),25)\n",
        "train=tf.train.GradientDescentOptimizer(0.01).minimize(cost)"
      ],
      "execution_count": 2,
      "outputs": [
        {
          "output_type": "stream",
          "text": [
            "WARNING:tensorflow:From /usr/local/lib/python3.6/dist-packages/tensorflow_core/python/ops/math_grad.py:1375: where (from tensorflow.python.ops.array_ops) is deprecated and will be removed in a future version.\n",
            "Instructions for updating:\n",
            "Use tf.where in 2.0, which has the same broadcast rule as np.where\n"
          ],
          "name": "stdout"
        }
      ]
    },
    {
      "cell_type": "code",
      "metadata": {
        "id": "4egmhDYPW4MZ",
        "colab_type": "code",
        "outputId": "1756a70b-c4db-44bf-a75a-88dbd1e3c526",
        "colab": {
          "base_uri": "https://localhost:8080/",
          "height": 34
        }
      },
      "source": [
        "init=tf.global_variables_initializer()\n",
        "session=tf.Session()\n",
        "session.run(init)\n",
        "print(session.run(w))"
      ],
      "execution_count": 3,
      "outputs": [
        {
          "output_type": "stream",
          "text": [
            "0.0\n"
          ],
          "name": "stdout"
        }
      ]
    },
    {
      "cell_type": "code",
      "metadata": {
        "id": "xmfgjHy2Xpu0",
        "colab_type": "code",
        "outputId": "0a72042c-4a59-46cf-d976-6d7bcd604596",
        "colab": {
          "base_uri": "https://localhost:8080/",
          "height": 34
        }
      },
      "source": [
        "session.run(train)\n",
        "print(session.run(w))"
      ],
      "execution_count": 4,
      "outputs": [
        {
          "output_type": "stream",
          "text": [
            "0.099999994\n"
          ],
          "name": "stdout"
        }
      ]
    },
    {
      "cell_type": "code",
      "metadata": {
        "id": "40JwF-pNXup1",
        "colab_type": "code",
        "outputId": "246081ac-6bfc-4efd-c042-60d444eba823",
        "colab": {
          "base_uri": "https://localhost:8080/",
          "height": 34
        }
      },
      "source": [
        "#Lets run several times\n",
        "for i in range(1000):\n",
        "  session.run(train)\n",
        "print(session.run(w))"
      ],
      "execution_count": 5,
      "outputs": [
        {
          "output_type": "stream",
          "text": [
            "4.999988\n"
          ],
          "name": "stdout"
        }
      ]
    },
    {
      "cell_type": "code",
      "metadata": {
        "id": "V3s7uCEMX3EE",
        "colab_type": "code",
        "colab": {}
      },
      "source": [
        "#what if the function is a function that depends on the training data\n",
        "tf.reset_default_graph()\n",
        "w=tf.Variable(0,dtype=tf.float32)\n",
        "coefficient=np.array([[1.0],[-20.0],[100.0]])\n",
        "x=tf.placeholder(tf.float32,shape=(3,1))\n",
        "cost=x[0][0]*w**2+x[1][0]*w+x[2][0]\n",
        "train=tf.train.GradientDescentOptimizer(0.01).minimize(cost)"
      ],
      "execution_count": 0,
      "outputs": []
    },
    {
      "cell_type": "code",
      "metadata": {
        "id": "STvgkKXkY2DQ",
        "colab_type": "code",
        "outputId": "a8290a08-e03d-4195-8a74-eeb4c59fa1e6",
        "colab": {
          "base_uri": "https://localhost:8080/",
          "height": 34
        }
      },
      "source": [
        "init=tf.global_variables_initializer()\n",
        "session=tf.Session()\n",
        "session.run(init)\n",
        "print(session.run(w))"
      ],
      "execution_count": 7,
      "outputs": [
        {
          "output_type": "stream",
          "text": [
            "0.0\n"
          ],
          "name": "stdout"
        }
      ]
    },
    {
      "cell_type": "code",
      "metadata": {
        "id": "TGwMGznOZk-a",
        "colab_type": "code",
        "outputId": "8ee64ae8-6aa5-43de-e653-98cd49fb53d2",
        "colab": {
          "base_uri": "https://localhost:8080/",
          "height": 34
        }
      },
      "source": [
        "session.run(train,feed_dict={x:coefficient})\n",
        "print(session.run(w))"
      ],
      "execution_count": 8,
      "outputs": [
        {
          "output_type": "stream",
          "text": [
            "0.19999999\n"
          ],
          "name": "stdout"
        }
      ]
    },
    {
      "cell_type": "code",
      "metadata": {
        "id": "nmip_wJgZuyF",
        "colab_type": "code",
        "outputId": "8a68cd56-9b41-4fae-b801-a9e1e104a5b8",
        "colab": {
          "base_uri": "https://localhost:8080/",
          "height": 34
        }
      },
      "source": [
        "#Lets run several times\n",
        "for i in range(1000):\n",
        "  session.run(train,feed_dict={x:coefficient})\n",
        "print(session.run(w))"
      ],
      "execution_count": 9,
      "outputs": [
        {
          "output_type": "stream",
          "text": [
            "9.999976\n"
          ],
          "name": "stdout"
        }
      ]
    },
    {
      "cell_type": "code",
      "metadata": {
        "id": "IqauGUM_ZxrB",
        "colab_type": "code",
        "colab": {}
      },
      "source": [
        "r = np.random.rand()\n",
        "beta = 1-10**(- r - 1)"
      ],
      "execution_count": 0,
      "outputs": []
    },
    {
      "cell_type": "code",
      "metadata": {
        "id": "1YFsGleMc-cg",
        "colab_type": "code",
        "outputId": "5269664a-a163-4862-a9b9-61cfcee41541",
        "colab": {
          "base_uri": "https://localhost:8080/",
          "height": 34
        }
      },
      "source": [
        "print(beta)"
      ],
      "execution_count": 11,
      "outputs": [
        {
          "output_type": "stream",
          "text": [
            "0.9850636899627101\n"
          ],
          "name": "stdout"
        }
      ]
    },
    {
      "cell_type": "code",
      "metadata": {
        "id": "JmnK-Iwyc_in",
        "colab_type": "code",
        "colab": {}
      },
      "source": [
        "tf.reset_default_graph()\n",
        "yh=tf.constant(36,name='y_hat')\n",
        "y=tf.constant(39,name='y')\n",
        "loss=tf.Variable((y-yh)**2, name='loss')\n"
      ],
      "execution_count": 0,
      "outputs": []
    },
    {
      "cell_type": "code",
      "metadata": {
        "id": "oKPJkeJehYbQ",
        "colab_type": "code",
        "outputId": "5ee39cdf-3bd8-4d82-d1d5-c8eb10b33b38",
        "colab": {
          "base_uri": "https://localhost:8080/",
          "height": 34
        }
      },
      "source": [
        "init=tf.global_variables_initializer()\n",
        "with tf.Session() as sess:\n",
        "  sess.run(init)\n",
        "  print(sess.run(loss))"
      ],
      "execution_count": 13,
      "outputs": [
        {
          "output_type": "stream",
          "text": [
            "9\n"
          ],
          "name": "stdout"
        }
      ]
    },
    {
      "cell_type": "code",
      "metadata": {
        "id": "4VFCv9UPhhh_",
        "colab_type": "code",
        "colab": {}
      },
      "source": [
        "#Linear Function\n",
        "#Y=WX+b\n",
        "#W.shape=(4,3)\n",
        "#X.shape=(3,1)\n",
        "#b.shape=(4,1)\n",
        "#For example X=tf.constant(np.random.randn(3,1),name=\"X\")\n",
        "def linear_function():\n",
        "  np.random.seed(1)\n",
        "  X=tf.constant(np.random.randn(3,1),name=\"X\")\n",
        "  W=tf.constant(np.random.randn(4,3),name=\"W\")\n",
        "  b=tf.constant(np.random.randn(4,1),name=\"b\")\n",
        "  Y=tf.add(tf.matmul(W,X),b)\n",
        "  sess=tf.Session()\n",
        "  result=sess.run(Y)\n",
        "\n",
        "  return result"
      ],
      "execution_count": 0,
      "outputs": []
    },
    {
      "cell_type": "code",
      "metadata": {
        "id": "G3rvWAq6kPJ3",
        "colab_type": "code",
        "outputId": "fcd0f6fa-bda3-4ab2-8a6a-e62ce84d65bb",
        "colab": {
          "base_uri": "https://localhost:8080/",
          "height": 84
        }
      },
      "source": [
        "print( linear_function())"
      ],
      "execution_count": 15,
      "outputs": [
        {
          "output_type": "stream",
          "text": [
            "[[-2.15657382]\n",
            " [ 2.95891446]\n",
            " [-1.08926781]\n",
            " [-0.84538042]]\n"
          ],
          "name": "stdout"
        }
      ]
    },
    {
      "cell_type": "code",
      "metadata": {
        "id": "y-bM0L-gkTZh",
        "colab_type": "code",
        "colab": {}
      },
      "source": [
        "#Computing the sigmoid tf.sigmoid\n",
        "#tf.softmax. \n",
        "#Lets compute the sigmoid for the inputs\n",
        "#x=tf.placeholder(tf.float32,name=\"x\")\n",
        "#tf.sigmoid()\n",
        "#sess.run(...,feed_dict={x=z})\n",
        "def sigmoid(z):\n",
        "  x=tf.placeholder(tf.float32, name=\"x\")\n",
        "  sigmoid=tf.sigmoid(x)\n",
        "  with tf.Session() as sess:\n",
        "    result=sess.run(sigmoid,feed_dict={x:z})\n",
        "  return result"
      ],
      "execution_count": 0,
      "outputs": []
    },
    {
      "cell_type": "code",
      "metadata": {
        "id": "r4S9mugPnhaJ",
        "colab_type": "code",
        "outputId": "7ce85c53-55af-4497-b695-43937c1ab2df",
        "colab": {
          "base_uri": "https://localhost:8080/",
          "height": 34
        }
      },
      "source": [
        "print(sigmoid(0))"
      ],
      "execution_count": 17,
      "outputs": [
        {
          "output_type": "stream",
          "text": [
            "0.5\n"
          ],
          "name": "stdout"
        }
      ]
    },
    {
      "cell_type": "code",
      "metadata": {
        "id": "Hl4QMuFHnjoh",
        "colab_type": "code",
        "outputId": "91c90d6b-d780-4cff-8757-48e085981a66",
        "colab": {
          "base_uri": "https://localhost:8080/",
          "height": 34
        }
      },
      "source": [
        "print(\"sigmoid(12)= \"+str(sigmoid(12)))"
      ],
      "execution_count": 18,
      "outputs": [
        {
          "output_type": "stream",
          "text": [
            "sigmoid(12)= 0.9999938\n"
          ],
          "name": "stdout"
        }
      ]
    },
    {
      "cell_type": "code",
      "metadata": {
        "id": "S4qPCOdgn7IC",
        "colab_type": "code",
        "colab": {}
      },
      "source": [
        "#Cross entropy\n",
        "#tf.nn.sigmoid_cross_entropy_with_logits()\n",
        "def cost(logits,labels):\n",
        "  z=tf.placeholder(tf.float32,name=\"z\")\n",
        "  y=tf.placeholder(tf.float32,name=\"y\")\n",
        "  cost=tf.nn.sigmoid_cross_entropy_with_logits(logits=z,labels=y)\n",
        "  sess=tf.Session()\n",
        "  cost=sess.run(cost,feed_dict={z:logits, y:labels})\n",
        "  sess.close()\n",
        "  return cost"
      ],
      "execution_count": 0,
      "outputs": []
    },
    {
      "cell_type": "code",
      "metadata": {
        "id": "7428GpkxqipE",
        "colab_type": "code",
        "outputId": "ba203393-557d-4325-d68b-2c0a91c1ca6e",
        "colab": {
          "base_uri": "https://localhost:8080/",
          "height": 34
        }
      },
      "source": [
        "logits=np.array([0.2,0.4,0.7,0.9])\n",
        "cost=cost(logits,np.array([0,0,1,1]))\n",
        "print(\"cost= \" +str(cost))"
      ],
      "execution_count": 20,
      "outputs": [
        {
          "output_type": "stream",
          "text": [
            "cost= [0.79813886 0.91301525 0.40318605 0.34115386]\n"
          ],
          "name": "stdout"
        }
      ]
    },
    {
      "cell_type": "code",
      "metadata": {
        "id": "rcK6th6IqwuB",
        "colab_type": "code",
        "colab": {}
      },
      "source": [
        "def one_hot_matrix(labels,C):\n",
        "  C=tf.constant(C,name='C')\n",
        "  one_hot_matrix= tf.one_hot(labels, C, axis=0)\n",
        "  sess=tf.Session()\n",
        "  one_hot=sess.run(one_hot_matrix)\n",
        "  sess.close()\n",
        "  return one_hot"
      ],
      "execution_count": 0,
      "outputs": []
    },
    {
      "cell_type": "code",
      "metadata": {
        "id": "E7b66GmIoxuV",
        "colab_type": "code",
        "colab": {
          "base_uri": "https://localhost:8080/",
          "height": 101
        },
        "outputId": "9851c56c-51c1-4fa2-d614-951b9a870569"
      },
      "source": [
        "labels = np.array([1,2,3,0,2,1])\n",
        "one_hot = one_hot_matrix(labels, C = 4)\n",
        "print (\"one_hot = \\n\" + str(one_hot))"
      ],
      "execution_count": 24,
      "outputs": [
        {
          "output_type": "stream",
          "text": [
            "one_hot = \n",
            "[[0. 0. 0. 1. 0. 0.]\n",
            " [1. 0. 0. 0. 0. 1.]\n",
            " [0. 1. 0. 0. 1. 0.]\n",
            " [0. 0. 1. 0. 0. 0.]]\n"
          ],
          "name": "stdout"
        }
      ]
    },
    {
      "cell_type": "code",
      "metadata": {
        "id": "EwaVR9ZGp523",
        "colab_type": "code",
        "colab": {}
      },
      "source": [
        "def ones(shape):\n",
        "  ones=tf.ones(shape)\n",
        "  sess=tf.Session()\n",
        "  ones=sess.run(ones)\n",
        "  sess.close()\n",
        "  return ones"
      ],
      "execution_count": 0,
      "outputs": []
    },
    {
      "cell_type": "code",
      "metadata": {
        "id": "GMWPulwJqrrv",
        "colab_type": "code",
        "colab": {
          "base_uri": "https://localhost:8080/",
          "height": 34
        },
        "outputId": "944524ea-da1f-4be1-b0d1-9ddca1d40054"
      },
      "source": [
        "print (\"ones = \" + str(ones([3])))"
      ],
      "execution_count": 26,
      "outputs": [
        {
          "output_type": "stream",
          "text": [
            "ones = [1. 1. 1.]\n"
          ],
          "name": "stdout"
        }
      ]
    },
    {
      "cell_type": "code",
      "metadata": {
        "id": "nbjpWiV2qtIo",
        "colab_type": "code",
        "colab": {}
      },
      "source": [
        ""
      ],
      "execution_count": 0,
      "outputs": []
    }
  ]
}